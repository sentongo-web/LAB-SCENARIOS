{
 "cells": [
  {
   "cell_type": "markdown",
   "metadata": {},
   "source": [
    "### Welcome to 'InsureTech Innovate', a groundbreaking insurance firm located in the tech-driven district of Silicon Heights. You've recently been hired as a Machine Learning Engineer, primarily because of the challenges the firm faces with their current prediction models on insurance charges. The company aims to provide tailored insurance plans to customers based on a myriad of factors, but the existing models are not predicting charges with the desired accuracy. Your direct supervisor, Julia, the Chief Data Analyst, believes that TensorFlow might be the answer to refining these predictions. She's handed you a dataset that encompasses diverse customer profiles and their associated insurance charges. Julia expects you to harness TensorFlow's capabilities to develop an enhanced prediction model and demonstrate its superiority over the current system. The success of this project is pivotal, as it could revolutionize the way 'InsureTech Innovate' designs its insurance packages, ensuring more personalized and cost-effective plans for its clients."
   ]
  },
  {
   "cell_type": "markdown",
   "metadata": {},
   "source": [
    "### Load and Analyze the \"insurance.csv\" Dataset\n",
    "Given the importance of understanding our insurance dataset, the goal of this task is to load the dataset and perform an initial analysis. The steps to achieve this are outlined below:\n",
    "\n",
    "#### Import key Python libraries: TensorFlow, Pandas, and Matplotlib.\n",
    "\n",
    "### Load the dataset named \"insurance.csv\" into a DataFrame.\n",
    "\n",
    "Provide a quick glance of the dataset by displaying the first few rows.\n",
    "\n",
    "Generate a statistical summary of the dataset to assess its structure, distribution, and main statistical properties."
   ]
  },
  {
   "cell_type": "code",
   "execution_count": 1,
   "metadata": {},
   "outputs": [],
   "source": [
    "# Importing the required libraries for data manipulation and visualization\n",
    "import tensorflow as tf\n",
    "import pandas as pd\n",
    "import matplotlib.pyplot as plt"
   ]
  },
  {
   "cell_type": "code",
   "execution_count": 2,
   "metadata": {},
   "outputs": [],
   "source": [
    "# Loading the \"insurance.csv\" dataset into a pandas DataFrame\n",
    "df = pd.read_csv(\"insurance.csv\")"
   ]
  },
  {
   "cell_type": "code",
   "execution_count": 3,
   "metadata": {},
   "outputs": [
    {
     "data": {
      "text/html": [
       "<div>\n",
       "<style scoped>\n",
       "    .dataframe tbody tr th:only-of-type {\n",
       "        vertical-align: middle;\n",
       "    }\n",
       "\n",
       "    .dataframe tbody tr th {\n",
       "        vertical-align: top;\n",
       "    }\n",
       "\n",
       "    .dataframe thead th {\n",
       "        text-align: right;\n",
       "    }\n",
       "</style>\n",
       "<table border=\"1\" class=\"dataframe\">\n",
       "  <thead>\n",
       "    <tr style=\"text-align: right;\">\n",
       "      <th></th>\n",
       "      <th>age</th>\n",
       "      <th>sex</th>\n",
       "      <th>bmi</th>\n",
       "      <th>children</th>\n",
       "      <th>smoker</th>\n",
       "      <th>region</th>\n",
       "      <th>charges</th>\n",
       "    </tr>\n",
       "  </thead>\n",
       "  <tbody>\n",
       "    <tr>\n",
       "      <th>0</th>\n",
       "      <td>19</td>\n",
       "      <td>female</td>\n",
       "      <td>27.900</td>\n",
       "      <td>0</td>\n",
       "      <td>yes</td>\n",
       "      <td>southwest</td>\n",
       "      <td>16884.92400</td>\n",
       "    </tr>\n",
       "    <tr>\n",
       "      <th>1</th>\n",
       "      <td>18</td>\n",
       "      <td>male</td>\n",
       "      <td>33.770</td>\n",
       "      <td>1</td>\n",
       "      <td>no</td>\n",
       "      <td>southeast</td>\n",
       "      <td>1725.55230</td>\n",
       "    </tr>\n",
       "    <tr>\n",
       "      <th>2</th>\n",
       "      <td>28</td>\n",
       "      <td>male</td>\n",
       "      <td>33.000</td>\n",
       "      <td>3</td>\n",
       "      <td>no</td>\n",
       "      <td>southeast</td>\n",
       "      <td>4449.46200</td>\n",
       "    </tr>\n",
       "    <tr>\n",
       "      <th>3</th>\n",
       "      <td>33</td>\n",
       "      <td>male</td>\n",
       "      <td>22.705</td>\n",
       "      <td>0</td>\n",
       "      <td>no</td>\n",
       "      <td>northwest</td>\n",
       "      <td>21984.47061</td>\n",
       "    </tr>\n",
       "    <tr>\n",
       "      <th>4</th>\n",
       "      <td>32</td>\n",
       "      <td>male</td>\n",
       "      <td>28.880</td>\n",
       "      <td>0</td>\n",
       "      <td>no</td>\n",
       "      <td>northwest</td>\n",
       "      <td>3866.85520</td>\n",
       "    </tr>\n",
       "  </tbody>\n",
       "</table>\n",
       "</div>"
      ],
      "text/plain": [
       "   age     sex     bmi  children smoker     region      charges\n",
       "0   19  female  27.900         0    yes  southwest  16884.92400\n",
       "1   18    male  33.770         1     no  southeast   1725.55230\n",
       "2   28    male  33.000         3     no  southeast   4449.46200\n",
       "3   33    male  22.705         0     no  northwest  21984.47061\n",
       "4   32    male  28.880         0     no  northwest   3866.85520"
      ]
     },
     "execution_count": 3,
     "metadata": {},
     "output_type": "execute_result"
    }
   ],
   "source": [
    "# Displaying the initial rows of the dataset for a basic understanding\n",
    "df.head()"
   ]
  },
  {
   "cell_type": "code",
   "execution_count": 4,
   "metadata": {},
   "outputs": [
    {
     "data": {
      "text/html": [
       "<div>\n",
       "<style scoped>\n",
       "    .dataframe tbody tr th:only-of-type {\n",
       "        vertical-align: middle;\n",
       "    }\n",
       "\n",
       "    .dataframe tbody tr th {\n",
       "        vertical-align: top;\n",
       "    }\n",
       "\n",
       "    .dataframe thead th {\n",
       "        text-align: right;\n",
       "    }\n",
       "</style>\n",
       "<table border=\"1\" class=\"dataframe\">\n",
       "  <thead>\n",
       "    <tr style=\"text-align: right;\">\n",
       "      <th></th>\n",
       "      <th>age</th>\n",
       "      <th>bmi</th>\n",
       "      <th>children</th>\n",
       "      <th>charges</th>\n",
       "    </tr>\n",
       "  </thead>\n",
       "  <tbody>\n",
       "    <tr>\n",
       "      <th>count</th>\n",
       "      <td>1338.000000</td>\n",
       "      <td>1338.000000</td>\n",
       "      <td>1338.000000</td>\n",
       "      <td>1338.000000</td>\n",
       "    </tr>\n",
       "    <tr>\n",
       "      <th>mean</th>\n",
       "      <td>39.207025</td>\n",
       "      <td>30.663397</td>\n",
       "      <td>1.094918</td>\n",
       "      <td>13270.422265</td>\n",
       "    </tr>\n",
       "    <tr>\n",
       "      <th>std</th>\n",
       "      <td>14.049960</td>\n",
       "      <td>6.098187</td>\n",
       "      <td>1.205493</td>\n",
       "      <td>12110.011237</td>\n",
       "    </tr>\n",
       "    <tr>\n",
       "      <th>min</th>\n",
       "      <td>18.000000</td>\n",
       "      <td>15.960000</td>\n",
       "      <td>0.000000</td>\n",
       "      <td>1121.873900</td>\n",
       "    </tr>\n",
       "    <tr>\n",
       "      <th>25%</th>\n",
       "      <td>27.000000</td>\n",
       "      <td>26.296250</td>\n",
       "      <td>0.000000</td>\n",
       "      <td>4740.287150</td>\n",
       "    </tr>\n",
       "    <tr>\n",
       "      <th>50%</th>\n",
       "      <td>39.000000</td>\n",
       "      <td>30.400000</td>\n",
       "      <td>1.000000</td>\n",
       "      <td>9382.033000</td>\n",
       "    </tr>\n",
       "    <tr>\n",
       "      <th>75%</th>\n",
       "      <td>51.000000</td>\n",
       "      <td>34.693750</td>\n",
       "      <td>2.000000</td>\n",
       "      <td>16639.912515</td>\n",
       "    </tr>\n",
       "    <tr>\n",
       "      <th>max</th>\n",
       "      <td>64.000000</td>\n",
       "      <td>53.130000</td>\n",
       "      <td>5.000000</td>\n",
       "      <td>63770.428010</td>\n",
       "    </tr>\n",
       "  </tbody>\n",
       "</table>\n",
       "</div>"
      ],
      "text/plain": [
       "               age          bmi     children       charges\n",
       "count  1338.000000  1338.000000  1338.000000   1338.000000\n",
       "mean     39.207025    30.663397     1.094918  13270.422265\n",
       "std      14.049960     6.098187     1.205493  12110.011237\n",
       "min      18.000000    15.960000     0.000000   1121.873900\n",
       "25%      27.000000    26.296250     0.000000   4740.287150\n",
       "50%      39.000000    30.400000     1.000000   9382.033000\n",
       "75%      51.000000    34.693750     2.000000  16639.912515\n",
       "max      64.000000    53.130000     5.000000  63770.428010"
      ]
     },
     "execution_count": 4,
     "metadata": {},
     "output_type": "execute_result"
    }
   ],
   "source": [
    "# Creating a statistical summary to better understand the dataset's properties\n",
    "df.describe()"
   ]
  },
  {
   "cell_type": "markdown",
   "metadata": {},
   "source": [
    "Prepare the Dataset for Machine Learning Analysis\n",
    "The primary aim of this task is to ensure that the insurance dataset is aptly prepared for machine learning models. This involves several essential steps:\n",
    "\n",
    "Convert categorical variables into numerical format.\n",
    "\n",
    "Delineate the dataset into features (X) and target variable (y).\n",
    "\n",
    "Split the dataset into training and test sets."
   ]
  },
  {
   "cell_type": "markdown",
   "metadata": {},
   "source": [
    "Construct and Evaluate a Neural Network Model\n",
    "Your objective is to build, train, and evaluate a neural network model for the insurance dataset, adhering to the specific architecture and parameters described below:\n",
    "\n",
    "Establish a neural network with a sequential structure that consists of two dense layers. Each layer should contain one neuron.\n",
    "\n",
    "Configure the model with Mean Absolute Error (MAE) as the loss function and the Stochastic Gradient Descent (SGD) optimizer for the compilation step.\n",
    "\n",
    "Train the model using the provided training dataset for a duration of 100 epochs and set the verbose parameter to 1 or 0.\n",
    "\n",
    "Once trained, evaluate the model's performance against the test dataset to ascertain its predictive accuracy."
   ]
  },
  {
   "cell_type": "markdown",
   "metadata": {},
   "source": [
    "Design, Train, Evaluate, and Visualize a Multi-Layer Neural Network\n",
    "Your objective is to develop an enhanced neural network model for the insurance dataset with a specific architecture that contains multiple layers and more units. Upon training the model, evaluate its performance against the test dataset. Lastly, visualize the model's training progress over epochs. Here are the step-by-step instructions:\n",
    "\n",
    "Design a neural network with three layers: the first containing 100 units, the second 10 units, and the last one unit.\n",
    "\n",
    "Compile the model using the Mean Absolute Error (MAE) as the loss function and the Adam optimizer.\n",
    "\n",
    "Train the model on the provided training dataset for 100 epochs and save its training history.\n",
    "\n",
    "Evaluate the model's performance on the test dataset to determine its prediction accuracy.\n",
    "\n",
    "Generate a visualization of the model's training progress across epochs using a loss curve."
   ]
  },
  {
   "cell_type": "markdown",
   "metadata": {},
   "source": [
    "Extend and Analyze the Training for the Multi-Layer Neural Network Model\n",
    "The primary objective is to further enhance the predictive accuracy of the model_2 neural network, which was previously trained for 100 epochs. To accomplish this:\n",
    "\n",
    "Continue the training of model_2 for an additional 100 epochs and verbose 0 or 1.\n",
    "\n",
    "Assess the model's performance after the extended training using the test dataset.\n",
    "\n",
    "Construct a visualization that depicts the model's training progression across the new epochs by rendering a loss curve."
   ]
  },
  {
   "cell_type": "markdown",
   "metadata": {},
   "source": [
    "Construct and Train a Neural Network on Normalized and Encoded Data\n",
    "The goal is to preprocess the insurance dataset by normalizing its numerical attributes and encoding its categorical ones. Once this is done, design and train a neural network model using this preprocessed data. The process involves:\n",
    "\n",
    "Setting up transformations to normalize numeric columns and one-hot encode categorical columns.\n",
    "\n",
    "Designing a neural network with specified architecture.\n",
    "\n",
    "Compiling and training the constructed model with the preprocessed training data."
   ]
  },
  {
   "cell_type": "markdown",
   "metadata": {},
   "source": [
    "Introduce Dropout Regularization, Train, Visualize and Assess Neural Network Predictions\n",
    "The goal is to refine the neural network architecture by incorporating dropout regularization, understand its learning behavior over epochs, and visually appraise its prediction competency on the test dataset. Below is the detailed breakdown:\n",
    "\n",
    "Construct a neural network with dropout regularization.\n",
    "\n",
    "Initial dense layer with 100 units.\n",
    "\n",
    "20% dropout layer to reduce overfitting.\n",
    "\n",
    "Intermediate dense layer with 10 units.\n",
    "\n",
    "Another 20% dropout layer.\n",
    "\n",
    "Final dense layer for prediction.\n",
    "\n",
    "Train the model on normalized data.\n",
    "\n",
    "Loss function: Mean Absolute Error (MAE)\n",
    "\n",
    "Optimizer: Adam\n",
    "\n",
    "Metrics: MAE\n",
    "\n",
    "Plot the model's learning curve.\n",
    "\n",
    "Make predictions using the model.\n",
    "\n",
    "Visualize the predicted versus actual values."
   ]
  },
  {
   "cell_type": "markdown",
   "metadata": {},
   "source": [
    "Hyperparameter Tuning for Neural Network using Keras Tuner\n",
    "Using the Keras Tuner, perform hyperparameter tuning for a neural network model designed for regression tasks. The primary focus is on optimizing the following hyperparameters:\n",
    "\n",
    "Units in the Dense layers: Between 32 and 512, in steps of 32.\n",
    "\n",
    "Number of hidden layers: Between 1 and 5.\n",
    "\n",
    "Dropout rate: Between 0.1 and 0.5, in increments of 0.1.\n",
    "\n",
    "Learning rate for the optimizer: Among 0.01, 0.001, and 0.0001.\n",
    "\n",
    "Parameters for the RandomSearch method include:\n",
    "\n",
    "Objective: val_mae - which is the validation mean absolute error. The tuner will attempt to minimize this objective.\n",
    "\n",
    "max_trials: 10 - This specifies that 10 different hyperparameter configurations will be tested. Note that this means that each time there would be 10 random parameter combinations.\n",
    "\n",
    "executions_per_trial: 3 - For each configuration, the model will be trained three times to reduce variance.\n",
    "\n",
    "directory: 'random_search' - Specifies the name of the directory where the results are stored.\n",
    "\n",
    "project_name: 'insurance_regression' - Defines a name for this particular hyperparameter tuning task.\n",
    "\n",
    "Please note that this task can take between 60 and 90 minutes to execute.\n",
    "\n"
   ]
  },
  {
   "cell_type": "markdown",
   "metadata": {},
   "source": [
    "Train and Visualize the Best Neural Network Model using Optimal Hyperparameters\n",
    "Having determined the optimal hyperparameters using the Keras Tuner's Random Search, the next step is to construct and train the best neural network model using these hyperparameters. Once trained, visualize the learning curve to analyze the training and validation loss over epochs."
   ]
  },
  {
   "cell_type": "markdown",
   "metadata": {},
   "source": [
    "Save, Load, and Predict using the Trained Neural Network Model\n",
    "To ensure our data pipeline remains efficient and we don't expend unnecessary resources retraining models, we need a procedure for saving and loading trained neural network models. The task involves saving the well-optimized neural network model to disk and subsequently retrieving it for future predictions without having to retrain."
   ]
  }
 ],
 "metadata": {
  "kernelspec": {
   "display_name": "Python 3",
   "language": "python",
   "name": "python3"
  },
  "language_info": {
   "codemirror_mode": {
    "name": "ipython",
    "version": 3
   },
   "file_extension": ".py",
   "mimetype": "text/x-python",
   "name": "python",
   "nbconvert_exporter": "python",
   "pygments_lexer": "ipython3",
   "version": "3.11.9"
  }
 },
 "nbformat": 4,
 "nbformat_minor": 2
}
